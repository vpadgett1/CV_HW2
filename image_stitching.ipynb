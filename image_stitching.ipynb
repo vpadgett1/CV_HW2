{
 "cells": [
  {
   "cell_type": "code",
   "execution_count": 1,
   "metadata": {},
   "outputs": [],
   "source": [
    "import numpy as np\n",
    "import cv2 as cv\n",
    "import argparse\n",
    "import sys\n",
    "import glob"
   ]
  },
  {
   "cell_type": "code",
   "execution_count": 2,
   "metadata": {},
   "outputs": [
    {
     "name": "stdout",
     "output_type": "stream",
     "text": [
      "Your Panorama is ready!!!\n",
      "stitching completed successfully. rialto_panorama.png saved!\n"
     ]
    }
   ],
   "source": [
    "#Define the number of images to be stitched\n",
    "num_images = 3\n",
    "#relevant_files = filter(lambda name: name.startswith('rialto'), glob.glob('gsu_buildings\\*.png'))\n",
    "images = glob.glob('gsu_buildings\\[r]*.png')\n",
    "\n",
    "pictures = []\n",
    "#Show Images inside image folder\n",
    "for i in range(len(images)):\n",
    "    img = cv.imread(images[i])\n",
    "    pictures.append(img)\n",
    "    # cv.imshow('image',pictures[i])\n",
    "    # cv.waitKey(0)\n",
    "    # cv.destroyAllWindows()\n",
    " \n",
    "stitchy=cv.Stitcher.create()\n",
    "(dummy,output)=stitchy.stitch(pictures)\n",
    " \n",
    "if dummy != cv.STITCHER_OK:\n",
    "    print(\"stitching ain't successful\")\n",
    "else:\n",
    "    print('Your Panorama is ready!!!')\n",
    " \n",
    "# final output\n",
    "cv.imshow('final result',output)\n",
    "cv.imwrite('rialto_panorama.png', output)\n",
    "print(\"stitching completed successfully. %s saved!\" % 'rialto_panorama.png')\n",
    "cv.waitKey(0)\n",
    "cv.destroyAllWindows()"
   ]
  },
  {
   "cell_type": "markdown",
   "metadata": {},
   "source": []
  },
  {
   "cell_type": "code",
   "execution_count": 10,
   "metadata": {},
   "outputs": [
    {
     "name": "stdout",
     "output_type": "stream",
     "text": [
      "Your Panorama is ready!!!\n",
      "stitching completed successfully. dahlberg_panorama.png saved!\n"
     ]
    }
   ],
   "source": [
    "#Define the number of images to be stitched\n",
    "num_images = 3\n",
    "#relevant_files = filter(lambda name: name.startswith('rialto'), glob.glob('gsu_buildings\\*.png'))\n",
    "images = glob.glob('gsu_buildings\\[d]*.jpg')\n",
    "\n",
    "pictures = []\n",
    "#Show Images inside image folder\n",
    "for i in range(len(images)):\n",
    "    img = cv.imread(images[i])\n",
    "    pictures.append(img)\n",
    "    # cv.imshow('image',pictures[i])\n",
    "    # cv.waitKey(0)\n",
    "    # cv.destroyAllWindows()\n",
    " \n",
    "stitchy=cv.Stitcher.create()\n",
    "(dummy,output)=stitchy.stitch(pictures)\n",
    " \n",
    "if dummy != cv.STITCHER_OK:\n",
    "    print(\"stitching ain't successful\")\n",
    "else:\n",
    "    print('Your Panorama is ready!!!')\n",
    " \n",
    "# final output\n",
    "cv.imshow('final result',output)\n",
    "cv.imwrite('dahlberg_panorama.png', output)\n",
    "print(\"stitching completed successfully. %s saved!\" % 'dahlberg_panorama.png')\n",
    "cv.waitKey(0)\n",
    "cv.destroyAllWindows()"
   ]
  },
  {
   "cell_type": "code",
   "execution_count": 13,
   "metadata": {},
   "outputs": [
    {
     "name": "stdout",
     "output_type": "stream",
     "text": [
      "Your Panorama is ready!!!\n",
      "stitching completed successfully. cmii_panorama.png saved!\n"
     ]
    }
   ],
   "source": [
    "#Define the number of images to be stitched\n",
    "num_images = 3\n",
    "#relevant_files = filter(lambda name: name.startswith('rialto'), glob.glob('gsu_buildings\\*.png'))\n",
    "images = glob.glob('gsu_buildings\\[C]*.jpeg')\n",
    "\n",
    "pictures = []\n",
    "#Show Images inside image folder\n",
    "for i in range(len(images)):\n",
    "    img = cv.imread(images[i])\n",
    "    pictures.append(img)\n",
    "    # cv.imshow('image',pictures[i])\n",
    "    # cv.waitKey(0)\n",
    "    # cv.destroyAllWindows()\n",
    " \n",
    "stitchy=cv.Stitcher.create()\n",
    "(dummy,output)=stitchy.stitch(pictures)\n",
    " \n",
    "if dummy != cv.STITCHER_OK:\n",
    "    print(\"stitching ain't successful\")\n",
    "else:\n",
    "    print('Your Panorama is ready!!!')\n",
    " \n",
    "# final output\n",
    "cv.imshow('final result',output)\n",
    "cv.imwrite('cmii_panorama.png', output)\n",
    "print(\"stitching completed successfully. %s saved!\" % 'cmii_panorama.png')\n",
    "cv.waitKey(0)\n",
    "cv.destroyAllWindows()"
   ]
  },
  {
   "cell_type": "code",
   "execution_count": 14,
   "metadata": {},
   "outputs": [
    {
     "name": "stdout",
     "output_type": "stream",
     "text": [
      "Your Panorama is ready!!!\n",
      "stitching completed successfully. library_panorama.png saved!\n"
     ]
    }
   ],
   "source": [
    "#Define the number of images to be stitched\n",
    "num_images = 3\n",
    "#relevant_files = filter(lambda name: name.startswith('rialto'), glob.glob('gsu_buildings\\*.png'))\n",
    "images = glob.glob('gsu_buildings\\[L]*.jpeg')\n",
    "\n",
    "pictures = []\n",
    "#Show Images inside image folder\n",
    "for i in range(len(images)):\n",
    "    img = cv.imread(images[i])\n",
    "    pictures.append(img)\n",
    "    # cv.imshow('image',pictures[i])\n",
    "    # cv.waitKey(0)\n",
    "    # cv.destroyAllWindows()\n",
    " \n",
    "stitchy=cv.Stitcher.create()\n",
    "(dummy,output)=stitchy.stitch(pictures)\n",
    " \n",
    "if dummy != cv.STITCHER_OK:\n",
    "    print(\"stitching ain't successful\")\n",
    "else:\n",
    "    print('Your Panorama is ready!!!')\n",
    " \n",
    "# final output\n",
    "cv.imshow('final result',output)\n",
    "cv.imwrite('library_panorama.png', output)\n",
    "print(\"stitching completed successfully. %s saved!\" % 'library_panorama.png')\n",
    "cv.waitKey(0)\n",
    "cv.destroyAllWindows()"
   ]
  },
  {
   "cell_type": "code",
   "execution_count": 16,
   "metadata": {},
   "outputs": [
    {
     "name": "stdout",
     "output_type": "stream",
     "text": [
      "Your Panorama is ready!!!\n",
      "stitching completed successfully. arts_panorama.png saved!\n"
     ]
    }
   ],
   "source": [
    "#Define the number of images to be stitched\n",
    "num_images = 3\n",
    "#relevant_files = filter(lambda name: name.startswith('rialto'), glob.glob('gsu_buildings\\*.png'))\n",
    "images = glob.glob('gsu_buildings\\[a]*.jpg')\n",
    "\n",
    "pictures = []\n",
    "#Show Images inside image folder\n",
    "for i in range(len(images)):\n",
    "    img = cv.imread(images[i])\n",
    "    pictures.append(img)\n",
    "    # cv.imshow('image',pictures[i])\n",
    "    # cv.waitKey(0)\n",
    "    # cv.destroyAllWindows()\n",
    " \n",
    "stitchy=cv.Stitcher.create()\n",
    "(dummy,output)=stitchy.stitch(pictures)\n",
    " \n",
    "if dummy != cv.STITCHER_OK:\n",
    "    print(\"stitching ain't successful\")\n",
    "else:\n",
    "    print('Your Panorama is ready!!!')\n",
    " \n",
    "# final output\n",
    "cv.imshow('final result',output)\n",
    "cv.imwrite('arts_panorama.png', output)\n",
    "print(\"stitching completed successfully. %s saved!\" % 'arts_panorama.png')\n",
    "cv.waitKey(0)\n",
    "cv.destroyAllWindows()"
   ]
  },
  {
   "cell_type": "code",
   "execution_count": null,
   "metadata": {},
   "outputs": [],
   "source": []
  }
 ],
 "metadata": {
  "kernelspec": {
   "display_name": "Python 3.9.12 ('base')",
   "language": "python",
   "name": "python3"
  },
  "language_info": {
   "codemirror_mode": {
    "name": "ipython",
    "version": 3
   },
   "file_extension": ".py",
   "mimetype": "text/x-python",
   "name": "python",
   "nbconvert_exporter": "python",
   "pygments_lexer": "ipython3",
   "version": "3.9.12"
  },
  "orig_nbformat": 4,
  "vscode": {
   "interpreter": {
    "hash": "7281080ee6fc425e6f98dec69755e44604bddc2a93c752be7503405a79136eb1"
   }
  }
 },
 "nbformat": 4,
 "nbformat_minor": 2
}
