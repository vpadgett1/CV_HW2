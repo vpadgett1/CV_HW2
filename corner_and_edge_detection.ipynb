{
 "cells": [
  {
   "cell_type": "code",
   "execution_count": 1,
   "metadata": {},
   "outputs": [],
   "source": [
    "import numpy as np\n",
    "import cv2 as cv"
   ]
  },
  {
   "cell_type": "code",
   "execution_count": 2,
   "metadata": {},
   "outputs": [],
   "source": [
    "def corner_harris(img, dist_thresh=.01):\n",
    "    gray = cv.cvtColor(img,cv.COLOR_BGR2GRAY)\n",
    "    gray = np.float32(gray)\n",
    "    dst = cv.cornerHarris(gray,2,3,0.04)\n",
    "    #result is dilated for marking the corners, not important\n",
    "    dst = cv.dilate(dst,None)\n",
    "    # Threshold for an optimal value, it may vary depending on the image.\n",
    "    img[dst>dist_thresh*dst.max()]=[0,0,255]\n",
    "    cv.imshow('Harris_Corner',img)\n",
    "    cv.waitKey(0)\n",
    "    cv.destroyAllWindows()\n",
    "\n",
    "filename = 'bookshelf\\camera_box0.png'\n",
    "corner_harris(cv.imread(filename))"
   ]
  },
  {
   "cell_type": "code",
   "execution_count": 3,
   "metadata": {},
   "outputs": [],
   "source": [
    "filename = 'bookshelf\\camera_box0.png'\n",
    "img = cv.imread(filename)\n",
    "  \n",
    "# Setting parameter values\n",
    "t_lower = 50  # Lower Threshold\n",
    "t_upper = 150  # Upper threshold\n",
    "  \n",
    "# Applying the Canny Edge filter\n",
    "edge = cv.Canny(img, t_lower, t_upper)\n",
    "  \n",
    "cv.imshow('original', img)\n",
    "cv.imshow('edge', edge)\n",
    "cv.waitKey(0)\n",
    "cv.destroyAllWindows()"
   ]
  },
  {
   "cell_type": "code",
   "execution_count": 5,
   "metadata": {},
   "outputs": [],
   "source": [
    "def standard_resize(img):\n",
    "    img = cv.resize(img, (780, 540),\n",
    "                interpolation = cv.INTER_LINEAR)\n",
    "    return img "
   ]
  },
  {
   "cell_type": "code",
   "execution_count": 6,
   "metadata": {},
   "outputs": [
    {
     "name": "stdout",
     "output_type": "stream",
     "text": [
      "220   183\n",
      "219   277\n",
      "513   197\n",
      "503   273\n",
      "143   145\n",
      "150   246\n",
      "517   157\n",
      "510   251\n"
     ]
    }
   ],
   "source": [
    "image = cv.imread('bookshelf\\camera_box0.png')\n",
    "image = cv.resize(image, (780, 540),\n",
    "               interpolation = cv.INTER_LINEAR)\n",
    "               \n",
    "img = cv.imread('bookshelf\\camera_box1.png')\n",
    "img = standard_resize(img)\n",
    "\n",
    "\n",
    "#print x and y when clicked on screen\n",
    "def click_event(event, x, y, flags, param):\n",
    "    if event == cv.EVENT_LBUTTONDOWN:\n",
    "        print(x, ' ', y)\n",
    "        font = cv.FONT_HERSHEY_SIMPLEX\n",
    "        strXY = str(x) + ', ' + str(y)\n",
    "        cv.putText(img, strXY, (x,y), font, .5, (255,255,0), 2)\n",
    "        cv.imshow('image', img)\n",
    "    if event == cv.EVENT_RBUTTONDOWN:\n",
    "        blue = img[y,x,0]\n",
    "        green = img[y,x,1]\n",
    "        red = img[y,x,2]\n",
    "        font = cv.FONT_HERSHEY_SIMPLEX\n",
    "        strBGR = str(blue) + ', ' + str(green) + ', ' + str(red)\n",
    "        cv.putText(img, strBGR, (x,y), font, .5, (0,255,255), 2)\n",
    "        cv.imshow('image', img)\n",
    "\n",
    "cv.namedWindow('image')\n",
    "cv.setMouseCallback('image', click_event)\n",
    "\n",
    "while True:\n",
    "    cv.imshow('image', img)\n",
    "    if cv.waitKey(20) & 0xFF == ord('q'):\n",
    "        cv.destroyAllWindows()\n",
    "        break\n",
    "\n",
    "cv.namedWindow('image')\n",
    "cv.setMouseCallback('image', click_event)\n",
    "img = cv.imread('bookshelf\\camera_box0.png')\n",
    "img = standard_resize(img)\n",
    "while True:\n",
    "    cv.imshow('image', img)\n",
    "    if cv.waitKey(20) & 0xFF == ord('q'):\n",
    "        cv.destroyAllWindows()\n",
    "        break "
   ]
  },
  {
   "cell_type": "code",
   "execution_count": 6,
   "metadata": {},
   "outputs": [],
   "source": [
    "box2_corners = np.array([[220, 183], [513, 197], [219, 277], [503, 273]])\n",
    "box1_corners = np.array([[143, 145], [517, 157], [150, 246], [510, 251]])\n",
    "\n",
    "#homography matrix\n",
    "\n",
    "def homography_matrix(box1_corners, box2_corners):\n",
    "    #find homography matrix\n",
    "    h, status = cv.findHomography(box1_corners, box2_corners)\n",
    "    return h\n",
    "\n",
    "\n",
    "#apply homography matrix to image\n",
    "def apply_homography(img, h):\n",
    "    img = cv.warpPerspective(img, h, (img.shape[1], img.shape[0]))\n",
    "    return img\n",
    "\n",
    "img = cv.imread('bookshelf\\camera_box0.png')\n",
    "img = standard_resize(img)\n",
    "h = homography_matrix(box1_corners,box2_corners)\n",
    "img = apply_homography(img, h)\n",
    "cv.imshow('image', img)\n",
    "if cv.waitKey(0) & 0xff == ord('q'):\n",
    "    cv.destroyAllWindows()"
   ]
  },
  {
   "cell_type": "code",
   "execution_count": null,
   "metadata": {},
   "outputs": [],
   "source": []
  }
 ],
 "metadata": {
  "kernelspec": {
   "display_name": "Python 3.9.12 ('base')",
   "language": "python",
   "name": "python3"
  },
  "language_info": {
   "codemirror_mode": {
    "name": "ipython",
    "version": 3
   },
   "file_extension": ".py",
   "mimetype": "text/x-python",
   "name": "python",
   "nbconvert_exporter": "python",
   "pygments_lexer": "ipython3",
   "version": "3.9.12"
  },
  "orig_nbformat": 4,
  "vscode": {
   "interpreter": {
    "hash": "7281080ee6fc425e6f98dec69755e44604bddc2a93c752be7503405a79136eb1"
   }
  }
 },
 "nbformat": 4,
 "nbformat_minor": 2
}
