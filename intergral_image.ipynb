{
 "cells": [
  {
   "cell_type": "code",
   "execution_count": 2,
   "metadata": {},
   "outputs": [],
   "source": [
    "import cv2 as cv\n",
    "import depthai as dai\n",
    "import numpy as np"
   ]
  },
  {
   "cell_type": "code",
   "execution_count": 3,
   "metadata": {},
   "outputs": [],
   "source": [
    "# Start defining a pipeline\n",
    "pipeline = dai.Pipeline()\n",
    "# Define a source - color camera\n",
    "rgb = pipeline.create(dai.node.ColorCamera)\n",
    "# creatiing a board socket for RGB camera\n",
    "rgb.setBoardSocket(dai.CameraBoardSocket.RGB)\n",
    "# setting resolution of RGB camera\n",
    "rgb.setResolution(dai.ColorCameraProperties.SensorResolution.THE_1080_P)\n",
    "# resizing frames \n",
    "rgb.setVideoSize(720, 640)\n",
    "#creating a output stream for RGB camera\n",
    "output_rgb = pipeline.create(dai.node.XLinkOut)\n",
    "# setting name for output stream\n",
    "output_rgb.setStreamName('colorcam')\n",
    "# connecting RGB camera to output stream\n",
    "rgb.video.link(output_rgb.input)"
   ]
  },
  {
   "cell_type": "code",
   "execution_count": 4,
   "metadata": {},
   "outputs": [
    {
     "ename": "RuntimeError",
     "evalue": "Communication exception - possible device error/misconfiguration. Original message 'Couldn't read data from stream: 'colorcam' (X_LINK_ERROR)'",
     "output_type": "error",
     "traceback": [
      "\u001b[1;31m---------------------------------------------------------------------------\u001b[0m",
      "\u001b[1;31mRuntimeError\u001b[0m                              Traceback (most recent call last)",
      "\u001b[1;32mc:\\Users\\torip\\assign2\\intergral_image.ipynb Cell 3\u001b[0m in \u001b[0;36m<cell line: 2>\u001b[1;34m()\u001b[0m\n\u001b[0;32m      <a href='vscode-notebook-cell:/c%3A/Users/torip/assign2/intergral_image.ipynb#W3sZmlsZQ%3D%3D?line=3'>4</a>\u001b[0m rgb_stream \u001b[39m=\u001b[39m device\u001b[39m.\u001b[39mgetOutputQueue(name\u001b[39m=\u001b[39m\u001b[39m'\u001b[39m\u001b[39mcolorcam\u001b[39m\u001b[39m'\u001b[39m, maxSize\u001b[39m=\u001b[39m\u001b[39m1\u001b[39m)\n\u001b[0;32m      <a href='vscode-notebook-cell:/c%3A/Users/torip/assign2/intergral_image.ipynb#W3sZmlsZQ%3D%3D?line=4'>5</a>\u001b[0m \u001b[39mwhile\u001b[39;00m \u001b[39mTrue\u001b[39;00m:\n\u001b[0;32m      <a href='vscode-notebook-cell:/c%3A/Users/torip/assign2/intergral_image.ipynb#W3sZmlsZQ%3D%3D?line=5'>6</a>\u001b[0m     \u001b[39m# get frame\u001b[39;00m\n\u001b[1;32m----> <a href='vscode-notebook-cell:/c%3A/Users/torip/assign2/intergral_image.ipynb#W3sZmlsZQ%3D%3D?line=6'>7</a>\u001b[0m     color_frame \u001b[39m=\u001b[39m rgb_stream\u001b[39m.\u001b[39;49mget()\u001b[39m.\u001b[39mgetCvFrame()\n\u001b[0;32m      <a href='vscode-notebook-cell:/c%3A/Users/torip/assign2/intergral_image.ipynb#W3sZmlsZQ%3D%3D?line=7'>8</a>\u001b[0m     \u001b[39m# convert frame to float\u001b[39;00m\n\u001b[0;32m      <a href='vscode-notebook-cell:/c%3A/Users/torip/assign2/intergral_image.ipynb#W3sZmlsZQ%3D%3D?line=8'>9</a>\u001b[0m     color_frame \u001b[39m=\u001b[39m np\u001b[39m.\u001b[39marray(color_frame, dtype\u001b[39m=\u001b[39mnp\u001b[39m.\u001b[39mfloat32)\n",
      "\u001b[1;31mRuntimeError\u001b[0m: Communication exception - possible device error/misconfiguration. Original message 'Couldn't read data from stream: 'colorcam' (X_LINK_ERROR)'"
     ]
    },
    {
     "ename": "",
     "evalue": "",
     "output_type": "error",
     "traceback": [
      "\u001b[1;31mThe Kernel crashed while executing code in the the current cell or a previous cell. Please review the code in the cell(s) to identify a possible cause of the failure. Click <a href='https://aka.ms/vscodeJupyterKernelCrash'>here</a> for more info. View Jupyter <a href='command:jupyter.viewOutput'>log</a> for further details."
     ]
    }
   ],
   "source": [
    "# start pipeline\n",
    "with dai.Device(pipeline) as device:\n",
    "    # output queue will be used to get the rgb frames from the output defined above\n",
    "    rgb_stream = device.getOutputQueue(name='colorcam', maxSize=1)\n",
    "    while True:\n",
    "        # get frame\n",
    "        color_frame = rgb_stream.get().getCvFrame()\n",
    "        # convert frame to float\n",
    "        color_frame = np.array(color_frame, dtype=np.float32)\n",
    "        # take sum along columns then take sum along rows\n",
    "        output_manual = np.cumsum(color_frame, axis=1).cumsum(axis=0)\n",
    "        # scale integral image between 0 and 255 range\n",
    "        output_manual = cv.normalize(output_manual, None, 0, 255, cv.NORM_MINMAX, cv.CV_8UC1)\n",
    "        # convert frames back to uint8\n",
    "        color_frame = np.uint8(color_frame)\n",
    "        output_manual = np.uint8(output_manual)\n",
    "        # show frames\n",
    "        cv.imshow(\"Original Frame\", color_frame)\n",
    "        cv.imshow(\"Integral Image\", output_manual)\n",
    "        key = cv.waitKey(1)\n",
    "        if key == ord('q'):\n",
    "            break\n",
    "    cv.destroyAllWindows()"
   ]
  },
  {
   "cell_type": "code",
   "execution_count": null,
   "metadata": {},
   "outputs": [],
   "source": []
  }
 ],
 "metadata": {
  "kernelspec": {
   "display_name": "Python 3.9.12 ('base')",
   "language": "python",
   "name": "python3"
  },
  "language_info": {
   "codemirror_mode": {
    "name": "ipython",
    "version": 3
   },
   "file_extension": ".py",
   "mimetype": "text/x-python",
   "name": "python",
   "nbconvert_exporter": "python",
   "pygments_lexer": "ipython3",
   "version": "3.9.12"
  },
  "orig_nbformat": 4,
  "vscode": {
   "interpreter": {
    "hash": "7281080ee6fc425e6f98dec69755e44604bddc2a93c752be7503405a79136eb1"
   }
  }
 },
 "nbformat": 4,
 "nbformat_minor": 2
}
